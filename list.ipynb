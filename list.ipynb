{
 "cells": [
  {
   "cell_type": "markdown",
   "id": "e4d556c4",
   "metadata": {},
   "source": [
    "# List"
   ]
  },
  {
   "cell_type": "code",
   "execution_count": 86,
   "id": "b1faec27",
   "metadata": {},
   "outputs": [
    {
     "name": "stdout",
     "output_type": "stream",
     "text": [
      "4\n",
      "[2, 4, 6, 8, 10]\n",
      "6\n",
      "6\n",
      "[2, 4, 6, 8, 10]\n"
     ]
    }
   ],
   "source": [
    "marks = [2,4,6,8,10]\n",
    "print(marks[1])\n",
    "print(marks)\n",
    "print(marks[-3])\n",
    "print(marks[len(marks)-3])\n",
    "print(marks[:])"
   ]
  },
  {
   "cell_type": "code",
   "execution_count": 15,
   "id": "2dfb8fe1",
   "metadata": {},
   "outputs": [
    {
     "name": "stdout",
     "output_type": "stream",
     "text": [
      "no\n"
     ]
    }
   ],
   "source": [
    "if 5 in marks:\n",
    "    print(\"yes\")\n",
    "else:\n",
    "    print(\"no\")"
   ]
  },
  {
   "cell_type": "markdown",
   "id": "dd4ea10c",
   "metadata": {},
   "source": [
    "# List Comprehension"
   ]
  },
  {
   "cell_type": "code",
   "execution_count": 22,
   "id": "68a9b845",
   "metadata": {},
   "outputs": [
    {
     "name": "stdout",
     "output_type": "stream",
     "text": [
      "[0, 1, 2, 3, 4]\n"
     ]
    }
   ],
   "source": [
    "lst = [i for i in range(5)]\n",
    "print(lst)"
   ]
  },
  {
   "cell_type": "code",
   "execution_count": 24,
   "id": "3ae5ac20",
   "metadata": {},
   "outputs": [
    {
     "name": "stdout",
     "output_type": "stream",
     "text": [
      "[0, 4, 16, 36, 64]\n"
     ]
    }
   ],
   "source": [
    "lst2 = [i*i for i in range(10) if i%2==0]\n",
    "print(lst2)"
   ]
  },
  {
   "cell_type": "code",
   "execution_count": 44,
   "id": "70ef700c",
   "metadata": {},
   "outputs": [
    {
     "name": "stdout",
     "output_type": "stream",
     "text": [
      "['zuhair', 'uzair', 'khursheed', 'osama', 'rehman']\n",
      "['zuhair', 'uzair']\n",
      "['zuhair', 'khursheed', 'rehman']\n"
     ]
    }
   ],
   "source": [
    "names = [\"zuhair\",\"uzair\",\"khursheed\",\"ali\",\"osama\",\"rehman\"]\n",
    "name = [item for item in names if (len(item)>4)]\n",
    "zname = [item for item in names if \"z\" in item]\n",
    "n = [item for item in names if (len(item)>5)]\n",
    "print(name)\n",
    "print(zname)\n",
    "print(n)"
   ]
  },
  {
   "cell_type": "markdown",
   "id": "f3abac36",
   "metadata": {},
   "source": [
    "# List methods"
   ]
  },
  {
   "cell_type": "code",
   "execution_count": 102,
   "id": "47f9ce46",
   "metadata": {},
   "outputs": [
    {
     "data": {
      "text/plain": [
       "[64, 76, 1, 2, 3, 4, 5, 6, 7, 8, 6, 6]"
      ]
     },
     "execution_count": 102,
     "metadata": {},
     "output_type": "execute_result"
    }
   ],
   "source": [
    "lst = [64,76,1,2,3,4,5,6,7,8,6,6]\n",
    "lst"
   ]
  },
  {
   "cell_type": "code",
   "execution_count": 86,
   "id": "034b26a7",
   "metadata": {},
   "outputs": [],
   "source": [
    "#lst.append(9)\n",
    "#lst"
   ]
  },
  {
   "cell_type": "code",
   "execution_count": 87,
   "id": "97930c3e",
   "metadata": {},
   "outputs": [],
   "source": [
    "#lst.sort()\n",
    "#lst"
   ]
  },
  {
   "cell_type": "code",
   "execution_count": 88,
   "id": "64f5e285",
   "metadata": {},
   "outputs": [],
   "source": [
    "#lst.sort(reverse=True)\n",
    "#lst"
   ]
  },
  {
   "cell_type": "code",
   "execution_count": 89,
   "id": "c8c3a73c",
   "metadata": {},
   "outputs": [],
   "source": [
    "#lst.reverse()\n",
    "#lst"
   ]
  },
  {
   "cell_type": "code",
   "execution_count": 114,
   "id": "0525cacd",
   "metadata": {},
   "outputs": [
    {
     "name": "stdout",
     "output_type": "stream",
     "text": [
      "5\n"
     ]
    }
   ],
   "source": [
    "print(lst.index(3))"
   ]
  },
  {
   "cell_type": "code",
   "execution_count": 103,
   "id": "d92f90af",
   "metadata": {},
   "outputs": [
    {
     "name": "stdout",
     "output_type": "stream",
     "text": [
      "3\n"
     ]
    }
   ],
   "source": [
    "print(lst.count(6))"
   ]
  },
  {
   "cell_type": "code",
   "execution_count": 104,
   "id": "6bee476f",
   "metadata": {},
   "outputs": [
    {
     "name": "stdout",
     "output_type": "stream",
     "text": [
      "[0, 76, 1, 2, 3, 4, 5, 6, 7, 8, 6, 6]\n"
     ]
    }
   ],
   "source": [
    "m = lst.copy()\n",
    "m[0]= 0\n",
    "print(m)"
   ]
  },
  {
   "cell_type": "code",
   "execution_count": 105,
   "id": "4b577923",
   "metadata": {},
   "outputs": [
    {
     "data": {
      "text/plain": [
       "[64, 900, 76, 1, 2, 3, 4, 5, 6, 7, 8, 6, 6]"
      ]
     },
     "execution_count": 105,
     "metadata": {},
     "output_type": "execute_result"
    }
   ],
   "source": [
    "lst.insert(1,900)\n",
    "lst"
   ]
  },
  {
   "cell_type": "code",
   "execution_count": 109,
   "id": "dce7e387",
   "metadata": {},
   "outputs": [
    {
     "data": {
      "text/plain": [
       "[64, 900, 76, 1, 2, 3, 4, 5, 6, 7, 8, 6, 6, 101, 102, 103, 101, 102, 103]"
      ]
     },
     "execution_count": 109,
     "metadata": {},
     "output_type": "execute_result"
    }
   ],
   "source": [
    "m = [101,102,103]\n",
    "k = lst + m\n",
    "#lst.extend(m)\n",
    "k"
   ]
  },
  {
   "cell_type": "code",
   "execution_count": 112,
   "id": "7046acf7",
   "metadata": {},
   "outputs": [
    {
     "name": "stdout",
     "output_type": "stream",
     "text": [
      "<class 'list'>\n"
     ]
    }
   ],
   "source": [
    "l = list((1,2,3,4,5))\n",
    "print(type(l))"
   ]
  },
  {
   "cell_type": "code",
   "execution_count": 66,
   "id": "4df98d24",
   "metadata": {},
   "outputs": [
    {
     "data": {
      "text/plain": [
       "['Zuhair', 'Khursheed', 'Uzair', 'Osama']"
      ]
     },
     "execution_count": 66,
     "metadata": {},
     "output_type": "execute_result"
    }
   ],
   "source": [
    "Names = [\"Zuhair\",\"Khursheed\",\"Uzair\",\"Osama\"]\n",
    "Names"
   ]
  },
  {
   "cell_type": "code",
   "execution_count": 67,
   "id": "51b2d52b",
   "metadata": {},
   "outputs": [],
   "source": [
    "Names.insert(1,\"Rehman\")"
   ]
  },
  {
   "cell_type": "code",
   "execution_count": 68,
   "id": "10132556",
   "metadata": {},
   "outputs": [
    {
     "data": {
      "text/plain": [
       "['Zuhair', 'Rehman', 'Khursheed', 'Uzair', 'Osama']"
      ]
     },
     "execution_count": 68,
     "metadata": {},
     "output_type": "execute_result"
    }
   ],
   "source": [
    "Names"
   ]
  },
  {
   "cell_type": "code",
   "execution_count": 69,
   "id": "f2e516cf",
   "metadata": {},
   "outputs": [
    {
     "data": {
      "text/plain": [
       "['Zuhair', 'Rehman', 'Khursheed', 'Uzair', 'Osama', 'Ali']"
      ]
     },
     "execution_count": 69,
     "metadata": {},
     "output_type": "execute_result"
    }
   ],
   "source": [
    "Names.append(\"Ali\")\n",
    "Names"
   ]
  },
  {
   "cell_type": "code",
   "execution_count": 70,
   "id": "a55b2867",
   "metadata": {},
   "outputs": [
    {
     "data": {
      "text/plain": [
       "['Nafay', 'Zuhair', 'Rehman', 'Khursheed', 'Uzair', 'Osama', 'Ali']"
      ]
     },
     "execution_count": 70,
     "metadata": {},
     "output_type": "execute_result"
    }
   ],
   "source": [
    "Names.insert(0,\"Nafay\")\n",
    "Names"
   ]
  },
  {
   "cell_type": "code",
   "execution_count": 71,
   "id": "7bfb140d",
   "metadata": {},
   "outputs": [
    {
     "name": "stdout",
     "output_type": "stream",
     "text": [
      "[None, 'Rehman', 'Khursheed', 'Uzair', 'Osama', 'Ali']\n"
     ]
    }
   ],
   "source": [
    "n = Names.copy()\n",
    "n[0] = n.remove(\"Nafay\")\n",
    "print(n)"
   ]
  },
  {
   "cell_type": "code",
   "execution_count": 72,
   "id": "e2eddf36",
   "metadata": {},
   "outputs": [
    {
     "data": {
      "text/plain": [
       "['Nafay', 'Zuhair', 'Rehman', 'Khursheed', 'Uzair', 'Osama', 'Ali']"
      ]
     },
     "execution_count": 72,
     "metadata": {},
     "output_type": "execute_result"
    }
   ],
   "source": [
    "Names"
   ]
  },
  {
   "cell_type": "code",
   "execution_count": 73,
   "id": "e56c8fd9",
   "metadata": {},
   "outputs": [
    {
     "name": "stdout",
     "output_type": "stream",
     "text": [
      "1\n"
     ]
    }
   ],
   "source": [
    "print(Names.count(\"Zuhair\"))"
   ]
  },
  {
   "cell_type": "code",
   "execution_count": 74,
   "id": "6129a603",
   "metadata": {},
   "outputs": [
    {
     "name": "stdout",
     "output_type": "stream",
     "text": [
      "['Nafay', 'Zuhair', 'Rehman', 'Khursheed', 'Uzair', 'Osama', 'Ali', 'Y', 'o', 'u', 's', 'f']\n"
     ]
    }
   ],
   "source": [
    "Names.extend(\"Yousf\")\n",
    "print(Names)"
   ]
  },
  {
   "cell_type": "code",
   "execution_count": 75,
   "id": "d3893edf",
   "metadata": {},
   "outputs": [
    {
     "name": "stdout",
     "output_type": "stream",
     "text": [
      "1\n"
     ]
    }
   ],
   "source": [
    "print(Names.index(\"Zuhair\"))"
   ]
  },
  {
   "cell_type": "code",
   "execution_count": 76,
   "id": "a51ba0a6",
   "metadata": {},
   "outputs": [
    {
     "data": {
      "text/plain": [
       "'f'"
      ]
     },
     "execution_count": 76,
     "metadata": {},
     "output_type": "execute_result"
    }
   ],
   "source": [
    "Names.pop(-1)"
   ]
  },
  {
   "cell_type": "code",
   "execution_count": 77,
   "id": "e61a6356",
   "metadata": {},
   "outputs": [
    {
     "name": "stdout",
     "output_type": "stream",
     "text": [
      "['Nafay', 'Zuhair', 'Rehman', 'Khursheed', 'Uzair', 'Osama', 'Ali', 'Y', 'o', 'u', 's']\n"
     ]
    }
   ],
   "source": [
    "print(Names)"
   ]
  },
  {
   "cell_type": "code",
   "execution_count": 78,
   "id": "dbc0d3e4",
   "metadata": {},
   "outputs": [
    {
     "name": "stdout",
     "output_type": "stream",
     "text": [
      "['Nafay', 'Zuhair', 'Rehman', 'Khursheed', 'Uzair', 'Osama', 'Ali', 'Y', 'o', 'u']\n"
     ]
    }
   ],
   "source": [
    "Names.remove(\"s\")\n",
    "print(Names)"
   ]
  },
  {
   "cell_type": "code",
   "execution_count": 79,
   "id": "0fa73c71",
   "metadata": {},
   "outputs": [
    {
     "data": {
      "text/plain": [
       "['Ali',\n",
       " 'Khursheed',\n",
       " 'Nafay',\n",
       " 'Osama',\n",
       " 'Rehman',\n",
       " 'Uzair',\n",
       " 'Y',\n",
       " 'Zuhair',\n",
       " 'o',\n",
       " 'u']"
      ]
     },
     "execution_count": 79,
     "metadata": {},
     "output_type": "execute_result"
    }
   ],
   "source": [
    "Names.sort()\n",
    "Names"
   ]
  },
  {
   "cell_type": "code",
   "execution_count": 82,
   "id": "6a24cbf1",
   "metadata": {},
   "outputs": [
    {
     "data": {
      "text/plain": [
       "['u',\n",
       " 'o',\n",
       " 'Zuhair',\n",
       " 'Y',\n",
       " 'Uzair',\n",
       " 'Rehman',\n",
       " 'Osama',\n",
       " 'Nafay',\n",
       " 'Khursheed',\n",
       " 'Ali']"
      ]
     },
     "execution_count": 82,
     "metadata": {},
     "output_type": "execute_result"
    }
   ],
   "source": [
    "Names.sort(reverse=True)\n",
    "Names"
   ]
  },
  {
   "cell_type": "code",
   "execution_count": 83,
   "id": "174401b3",
   "metadata": {},
   "outputs": [
    {
     "data": {
      "text/plain": [
       "['Ali',\n",
       " 'Khursheed',\n",
       " 'Nafay',\n",
       " 'Osama',\n",
       " 'Rehman',\n",
       " 'Uzair',\n",
       " 'Y',\n",
       " 'Zuhair',\n",
       " 'o',\n",
       " 'u']"
      ]
     },
     "execution_count": 83,
     "metadata": {},
     "output_type": "execute_result"
    }
   ],
   "source": [
    "Names.reverse()\n",
    "Names"
   ]
  },
  {
   "cell_type": "code",
   "execution_count": 85,
   "id": "6d899e51",
   "metadata": {},
   "outputs": [
    {
     "data": {
      "text/plain": [
       "[]"
      ]
     },
     "execution_count": 85,
     "metadata": {},
     "output_type": "execute_result"
    }
   ],
   "source": [
    "Names.clear()\n",
    "Names"
   ]
  },
  {
   "cell_type": "code",
   "execution_count": null,
   "id": "cb029ee0",
   "metadata": {},
   "outputs": [],
   "source": []
  }
 ],
 "metadata": {
  "kernelspec": {
   "display_name": "Python 3 (ipykernel)",
   "language": "python",
   "name": "python3"
  },
  "language_info": {
   "codemirror_mode": {
    "name": "ipython",
    "version": 3
   },
   "file_extension": ".py",
   "mimetype": "text/x-python",
   "name": "python",
   "nbconvert_exporter": "python",
   "pygments_lexer": "ipython3",
   "version": "3.11.5"
  }
 },
 "nbformat": 4,
 "nbformat_minor": 5
}
